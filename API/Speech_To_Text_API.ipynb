{
  "nbformat": 4,
  "nbformat_minor": 0,
  "metadata": {
    "colab": {
      "provenance": [],
      "gpuType": "T4"
    },
    "kernelspec": {
      "name": "python3",
      "display_name": "Python 3"
    },
    "language_info": {
      "name": "python"
    },
    "accelerator": "GPU"
  },
  "cells": [
    {
      "cell_type": "markdown",
      "source": [
        "# **Installing Ngrok Package**"
      ],
      "metadata": {
        "id": "iHy-i02giNIw"
      }
    },
    {
      "cell_type": "code",
      "source": [
        "!pip install pyngrok"
      ],
      "metadata": {
        "colab": {
          "base_uri": "https://localhost:8080/"
        },
        "id": "U6_rHLDABPaz",
        "outputId": "9fbbc2ac-7039-4f83-a9ad-9b78dd421479"
      },
      "execution_count": 1,
      "outputs": [
        {
          "output_type": "stream",
          "name": "stdout",
          "text": [
            "Collecting pyngrok\n",
            "  Downloading pyngrok-7.2.4-py3-none-any.whl.metadata (8.7 kB)\n",
            "Requirement already satisfied: PyYAML>=5.1 in /usr/local/lib/python3.11/dist-packages (from pyngrok) (6.0.2)\n",
            "Downloading pyngrok-7.2.4-py3-none-any.whl (23 kB)\n",
            "Installing collected packages: pyngrok\n",
            "Successfully installed pyngrok-7.2.4\n"
          ]
        }
      ]
    },
    {
      "cell_type": "markdown",
      "source": [
        "# **Mounting Drive**"
      ],
      "metadata": {
        "id": "q9PW9wTpd7dU"
      }
    },
    {
      "cell_type": "code",
      "source": [
        "from google.colab import drive\n",
        "drive.mount('/content/drive')"
      ],
      "metadata": {
        "colab": {
          "base_uri": "https://localhost:8080/"
        },
        "id": "Q9BTG5SOJL5M",
        "outputId": "c9c13178-6d52-4be8-db36-1a0645be2023"
      },
      "execution_count": 2,
      "outputs": [
        {
          "output_type": "stream",
          "name": "stdout",
          "text": [
            "Mounted at /content/drive\n"
          ]
        }
      ]
    },
    {
      "cell_type": "markdown",
      "source": [
        "# **Importing Dependencies**"
      ],
      "metadata": {
        "id": "pS_j9a_oeEdF"
      }
    },
    {
      "cell_type": "code",
      "source": [
        "from flask import Flask, request, jsonify\n",
        "from pyngrok import ngrok\n",
        "import librosa\n",
        "import numpy as np\n",
        "import tensorflow as tf\n",
        "from tensorflow.keras.preprocessing.sequence import pad_sequences\n",
        "import pickle\n",
        "import os"
      ],
      "metadata": {
        "id": "rzTiip7z-G21"
      },
      "execution_count": 3,
      "outputs": []
    },
    {
      "cell_type": "markdown",
      "source": [
        "# **Loading the Model**"
      ],
      "metadata": {
        "id": "sIm-JFQYeMWk"
      }
    },
    {
      "cell_type": "code",
      "source": [
        "# Changed from '/content/My Drive/my_model.h5' to '/content/drive/MyDrive/my_model.h5'\n",
        "model_path = '/content/drive/MyDrive/Sign Language AI/Saved Model/my_model.h5'\n",
        "\n",
        "# Load the model\n",
        "model = tf.keras.models.load_model(model_path)"
      ],
      "metadata": {
        "id": "BZ-gDLBvJWF_",
        "colab": {
          "base_uri": "https://localhost:8080/"
        },
        "outputId": "20112eef-2c34-4ffb-f037-c667063bff54"
      },
      "execution_count": 6,
      "outputs": [
        {
          "output_type": "stream",
          "name": "stderr",
          "text": [
            "WARNING:absl:Compiled the loaded model, but the compiled metrics have yet to be built. `model.compile_metrics` will be empty until you train or evaluate the model.\n"
          ]
        }
      ]
    },
    {
      "cell_type": "markdown",
      "source": [
        "# **Loading the saved Scaler and Encoder**"
      ],
      "metadata": {
        "id": "byciTpNLeRrA"
      }
    },
    {
      "cell_type": "code",
      "source": [
        "# Load the saved StandardScaler and LabelEncoder\n",
        "with open('/content/drive/MyDrive/Sign Language AI/Saved Model/scaler.pkl', 'rb') as f:\n",
        "    scaler = pickle.load(f)\n",
        "\n",
        "with open('/content/drive/MyDrive/Sign Language AI/Saved Model/label_encoder.pkl', 'rb') as f:\n",
        "    label_encoder = pickle.load(f)"
      ],
      "metadata": {
        "id": "Pw3FUUX6asqd"
      },
      "execution_count": 7,
      "outputs": []
    },
    {
      "cell_type": "markdown",
      "source": [],
      "metadata": {
        "id": "O12wTYqyaDNa"
      }
    },
    {
      "cell_type": "code",
      "source": [
        "# Start Flask app\n",
        "app = Flask(__name__)\n",
        "\n",
        "# Set up ngrok to expose the API publicly\n",
        "ngrok.set_auth_token(\"2uSiURmoLHTimv0eDPSpfCtezq5_6Dt4SgfeS1RLshnGRpgVR\")\n",
        "public_url = ngrok.connect(5000).public_url\n",
        "print(f\"Public API URL: {public_url}\")\n",
        "\n",
        "# Load correct padding length (Ensure it matches training)\n",
        "max_length = 32  # Actual training `X_train_padded.shape[1]`\n",
        "\n",
        "def preprocess_audio(file_path):\n",
        "    sr = 16000  # Ensure consistent sampling rate\n",
        "    y, _ = librosa.load(file_path, sr=sr)\n",
        "\n",
        "    # Extract MFCCs\n",
        "    mfccs = librosa.feature.mfcc(y=y, sr=sr, n_mfcc=13).T  # Shape: (num_frames, 13)\n",
        "\n",
        "    # Apply StandardScaler\n",
        "    mfccs_scaled = scaler.transform(mfccs)\n",
        "\n",
        "    # Pad to match training input length (32 time steps)\n",
        "    max_length = 32  # Ensure this matches your model's expected input\n",
        "    mfccs_padded = pad_sequences([mfccs_scaled], maxlen=max_length, padding='post')  # Shape: (1, 32, 13)\n",
        "\n",
        "    # Reshape correctly for model input (batch_size, time_steps, features)\n",
        "    return np.array(mfccs_padded, dtype=np.float32)  # Shape: (1, 32, 13)\n",
        "\n",
        "@app.route('/predict', methods=['POST'])\n",
        "def predict():\n",
        "    if 'file' not in request.files:\n",
        "        return jsonify({'error': 'No file uploaded'}), 400\n",
        "\n",
        "    # Save uploaded audio file\n",
        "    audio_file = request.files['file']\n",
        "    file_path = 'temp_audio.wav'\n",
        "    audio_file.save(file_path)\n",
        "\n",
        "    # Preprocess the audio\n",
        "    input_data = preprocess_audio(file_path)\n",
        "\n",
        "    # Make prediction\n",
        "    prediction = model.predict(input_data)\n",
        "    predicted_index = np.argmax(prediction, axis=1)[0]\n",
        "\n",
        "    # Convert index back to label using trained LabelEncoder\n",
        "    predicted_label = label_encoder.inverse_transform([predicted_index])[0]\n",
        "\n",
        "    # Return JSON response\n",
        "    return jsonify({'prediction': predicted_label})\n",
        "\n",
        "# Run Flask app\n",
        "if __name__ == '__main__':\n",
        "    app.run()\n"
      ],
      "metadata": {
        "colab": {
          "base_uri": "https://localhost:8080/"
        },
        "id": "GS9x9qzuaC2j",
        "outputId": "57c5fbbd-8164-49c8-b742-0dd37fee6f66"
      },
      "execution_count": 8,
      "outputs": [
        {
          "output_type": "stream",
          "name": "stdout",
          "text": [
            "Public API URL: https://92d6-34-32-185-131.ngrok-free.app\n",
            " * Serving Flask app '__main__'\n",
            " * Debug mode: off\n"
          ]
        },
        {
          "output_type": "stream",
          "name": "stderr",
          "text": [
            "INFO:werkzeug:\u001b[31m\u001b[1mWARNING: This is a development server. Do not use it in a production deployment. Use a production WSGI server instead.\u001b[0m\n",
            " * Running on http://127.0.0.1:5000\n",
            "INFO:werkzeug:\u001b[33mPress CTRL+C to quit\u001b[0m\n",
            "INFO:werkzeug:127.0.0.1 - - [21/Apr/2025 10:47:32] \"\u001b[31m\u001b[1mGET /predict HTTP/1.1\u001b[0m\" 405 -\n"
          ]
        },
        {
          "output_type": "stream",
          "name": "stdout",
          "text": [
            "\u001b[1m1/1\u001b[0m \u001b[32m━━━━━━━━━━━━━━━━━━━━\u001b[0m\u001b[37m\u001b[0m \u001b[1m1s\u001b[0m 1s/step\n"
          ]
        },
        {
          "output_type": "stream",
          "name": "stderr",
          "text": [
            "INFO:werkzeug:127.0.0.1 - - [21/Apr/2025 10:47:57] \"POST /predict HTTP/1.1\" 200 -\n"
          ]
        }
      ]
    },
    {
      "cell_type": "code",
      "source": [],
      "metadata": {
        "id": "KJl7Rps49I8B"
      },
      "execution_count": null,
      "outputs": []
    }
  ]
}
